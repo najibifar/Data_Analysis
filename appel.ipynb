{
 "cells": [
  {
   "cell_type": "code",
   "execution_count": 1,
   "id": "c8732fb0",
   "metadata": {},
   "outputs": [],
   "source": [
    "import yfinance \n"
   ]
  },
  {
   "cell_type": "code",
   "execution_count": 2,
   "id": "ea5a5c2d",
   "metadata": {},
   "outputs": [
    {
     "name": "stderr",
     "output_type": "stream",
     "text": [
      "C:\\Users\\amir\\AppData\\Local\\Temp\\ipykernel_988\\2202164690.py:3: FutureWarning: YF.download() has changed argument auto_adjust default to True\n",
      "  data = yf.download(\"AAPL\", start=\"2020-01-01\", end=\"2025-01-01\")\n",
      "[*********************100%***********************]  1 of 1 completed"
     ]
    },
    {
     "name": "stdout",
     "output_type": "stream",
     "text": [
      "Price           Close       High        Low       Open     Volume\n",
      "Ticker           AAPL       AAPL       AAPL       AAPL       AAPL\n",
      "Date                                                             \n",
      "2020-01-02  72.538513  72.598892  71.292304  71.545890  135480400\n",
      "2020-01-03  71.833290  72.594055  71.608685  71.765667  146322800\n",
      "2020-01-06  72.405693  72.444336  70.703027  70.954203  118387200\n",
      "2020-01-07  72.065147  72.671341  71.845369  72.415337  108872000\n",
      "2020-01-08  73.224419  73.526310  71.768094  71.768094  132079200\n"
     ]
    },
    {
     "name": "stderr",
     "output_type": "stream",
     "text": [
      "\n"
     ]
    }
   ],
   "source": [
    "import yfinance as yf\n",
    "\n",
    "data = yf.download(\"AAPL\", start=\"2020-01-01\", end=\"2025-01-01\")\n",
    "print(data.head())\n",
    "data.to_csv(\"AAPL.csv\")\n"
   ]
  },
  {
   "cell_type": "code",
   "execution_count": null,
   "id": "f320629a",
   "metadata": {},
   "outputs": [],
   "source": []
  }
 ],
 "metadata": {
  "kernelspec": {
   "display_name": "Python 3",
   "language": "python",
   "name": "python3"
  },
  "language_info": {
   "codemirror_mode": {
    "name": "ipython",
    "version": 3
   },
   "file_extension": ".py",
   "mimetype": "text/x-python",
   "name": "python",
   "nbconvert_exporter": "python",
   "pygments_lexer": "ipython3",
   "version": "3.12.7"
  }
 },
 "nbformat": 4,
 "nbformat_minor": 5
}
