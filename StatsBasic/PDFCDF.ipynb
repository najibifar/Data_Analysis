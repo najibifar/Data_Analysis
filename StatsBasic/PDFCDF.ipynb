{
 "cells": [
  {
   "cell_type": "code",
   "execution_count": 1,
   "id": "c0ca47e3",
   "metadata": {},
   "outputs": [],
   "source": [
    "from scipy import stats"
   ]
  },
  {
   "cell_type": "code",
   "execution_count": 3,
   "metadata": {},
   "outputs": [
    {
     "name": "stdout",
     "output_type": "stream",
     "text": [
      "<scipy.stats._distn_infrastructure.rv_discrete_frozen object at 0x0000019861F44CB0>\n"
     ]
    }
   ],
   "source": [
    "data = stats.binom(5000, 0.2)\n",
    "print(data)"
   ]
  },
  {
   "cell_type": "code",
   "execution_count": 10,
   "id": "ddda0691",
   "metadata": {},
   "outputs": [
    {
     "name": "stdout",
     "output_type": "stream",
     "text": [
      "0.9997488439973468\n"
     ]
    }
   ],
   "source": [
    "c=0\n",
    "for i in range(0, 1100):\n",
    "    c += data.pmf(i)\n",
    "print(c)"
   ]
  },
  {
   "cell_type": "code",
   "execution_count": 11,
   "id": "01cea0e3",
   "metadata": {},
   "outputs": [
    {
     "data": {
      "text/plain": [
       "np.float64(0.9997793353422768)"
      ]
     },
     "execution_count": 11,
     "metadata": {},
     "output_type": "execute_result"
    }
   ],
   "source": [
    "data.cdf(1100)"
   ]
  },
  {
   "cell_type": "code",
   "execution_count": 13,
   "id": "2b11d9c1",
   "metadata": {},
   "outputs": [],
   "source": [
    "data = stats.poisson(160)"
   ]
  },
  {
   "cell_type": "code",
   "execution_count": 14,
   "id": "3135b113",
   "metadata": {},
   "outputs": [
    {
     "data": {
      "text/plain": [
       "np.float64(0.00027541702741491487)"
      ]
     },
     "execution_count": 14,
     "metadata": {},
     "output_type": "execute_result"
    }
   ],
   "source": [
    "data.pmf(200)"
   ]
  },
  {
   "cell_type": "code",
   "execution_count": null,
   "id": "6b5d93da",
   "metadata": {},
   "outputs": [
    {
     "data": {
      "text/plain": [
       "np.float64(0.9990057242993592)"
      ]
     },
     "execution_count": 15,
     "metadata": {},
     "output_type": "execute_result"
    }
   ],
   "source": [
    "data.cdf(150)"
   ]
  },
  {
   "cell_type": "code",
   "execution_count": 16,
   "id": "c0df2b0f",
   "metadata": {},
   "outputs": [],
   "source": [
    "data = stats.norm(2, 1)"
   ]
  },
  {
   "cell_type": "code",
   "execution_count": 18,
   "id": "6e9a1c27",
   "metadata": {},
   "outputs": [
    {
     "data": {
      "text/plain": [
       "np.float64(0.3989422804014327)"
      ]
     },
     "execution_count": 18,
     "metadata": {},
     "output_type": "execute_result"
    }
   ],
   "source": [
    "data.pdf(2)"
   ]
  },
  {
   "cell_type": "code",
   "execution_count": 19,
   "id": "8c15d1d8",
   "metadata": {},
   "outputs": [
    {
     "data": {
      "text/plain": [
       "np.float64(0.2417303374571288)"
      ]
     },
     "execution_count": 19,
     "metadata": {},
     "output_type": "execute_result"
    }
   ],
   "source": [
    "data.cdf(3.5) - data.cdf(2.5)"
   ]
  },
  {
   "cell_type": "code",
   "execution_count": null,
   "id": "8999e443",
   "metadata": {},
   "outputs": [],
   "source": []
  }
 ],
 "metadata": {
  "kernelspec": {
   "display_name": "Python 3",
   "language": "python",
   "name": "python3"
  },
  "language_info": {
   "codemirror_mode": {
    "name": "ipython",
    "version": 3
   },
   "file_extension": ".py",
   "mimetype": "text/x-python",
   "name": "python",
   "nbconvert_exporter": "python",
   "pygments_lexer": "ipython3",
   "version": "3.12.7"
  }
 },
 "nbformat": 4,
 "nbformat_minor": 5
}
